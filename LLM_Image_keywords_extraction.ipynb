{
 "cells": [
  {
   "cell_type": "code",
   "execution_count": 80,
   "metadata": {},
   "outputs": [],
   "source": [
    "import pandas as pd\n",
    "import urllib\n",
    "import re\n",
    "import requests\n",
    "from PIL import Image\n",
    "\n",
    "from sklearn.feature_extraction.text import TfidfVectorizer\n",
    "from sklearn.metrics.pairwise import cosine_similarity\n",
    "\n",
    "from urllib.error import HTTPError\n",
    "import torch\n",
    "\n",
    "import multiprocess\n",
    "from joblib import Parallel, delayed\n",
    "\n",
    "import warnings\n",
    "warnings.filterwarnings(\"ignore\")\n",
    "\n",
    "from urllib3.exceptions import InsecureRequestWarning\n",
    "warnings.filterwarnings('ignore', category=InsecureRequestWarning)"
   ]
  },
  {
   "cell_type": "code",
   "execution_count": 29,
   "metadata": {},
   "outputs": [],
   "source": [
    "# Define project information\n",
    "PROJECT_ID = \"cortex-436714\"  # @param {type:\"string\"}\n",
    "LOCATION = \"us-central1\"  # @param {type:\"string\"}\n",
    "\n",
    "# Initialize Vertex AI\n",
    "import vertexai\n",
    "\n",
    "vertexai.init(project=PROJECT_ID, location=LOCATION)"
   ]
  },
  {
   "cell_type": "code",
   "execution_count": 30,
   "metadata": {},
   "outputs": [],
   "source": [
    "from vertexai.generative_models import (\n",
    "    GenerationConfig,\n",
    "    GenerativeModel,\n",
    "    Image,\n",
    "    Part,\n",
    ")"
   ]
  },
  {
   "cell_type": "code",
   "execution_count": 31,
   "metadata": {},
   "outputs": [],
   "source": [
    "text_model = GenerativeModel(\"gemini-1.5-pro\")"
   ]
  },
  {
   "cell_type": "code",
   "execution_count": 32,
   "metadata": {},
   "outputs": [],
   "source": [
    "import http.client\n",
    "import typing\n",
    "import urllib.request\n",
    "\n",
    "import IPython.display\n",
    "from PIL import Image as PIL_Image\n",
    "from PIL import ImageOps as PIL_ImageOps\n",
    "\n",
    "\n",
    "def display_images(\n",
    "    images: typing.Iterable[Image],\n",
    "    max_width: int = 600,\n",
    "    max_height: int = 350,\n",
    ") -> None:\n",
    "    for image in images:\n",
    "        pil_image = typing.cast(PIL_Image.Image, image._pil_image)\n",
    "        if pil_image.mode != \"RGB\":\n",
    "            # RGB is supported by all Jupyter environments (e.g. RGBA is not yet)\n",
    "            pil_image = pil_image.convert(\"RGB\")\n",
    "        image_width, image_height = pil_image.size\n",
    "        if max_width < image_width or max_height < image_height:\n",
    "            # Resize to display a smaller notebook image\n",
    "            pil_image = PIL_ImageOps.contain(pil_image, (max_width, max_height))\n",
    "        IPython.display.display(pil_image)\n",
    "\n",
    "\n",
    "# def get_image_bytes_from_url(image_url: str) -> bytes:\n",
    "#     with urllib.request.urlopen(image_url) as response:\n",
    "#         response = typing.cast(http.client.HTTPResponse, response)\n",
    "#         image_bytes = response.read()\n",
    "#     return image_bytes\n",
    "\n",
    "\n",
    "# def load_image_from_url(image_url: str) -> Image:\n",
    "#     image_bytes = get_image_bytes_from_url(image_url)\n",
    "#     return Image.from_bytes(image_bytes)\n",
    "\n",
    "def get_image_bytes_from_url(image_url: str) -> bytes:\n",
    "    response = requests.get(image_url, headers={'User-Agent': 'Mozilla/5.0'})\n",
    "    response.raise_for_status()  # Raise an error for bad status codes\n",
    "    return response.content\n",
    "\n",
    "def load_image_from_url(image_url: str) -> PIL_Image.Image:\n",
    "    image_bytes = get_image_bytes_from_url(image_url)\n",
    "    return Image.from_bytes(image_bytes)\n",
    "\n",
    "\n",
    "def display_content_as_image(content: str | Image | Part) -> bool:\n",
    "    if not isinstance(content, Image):\n",
    "        return False\n",
    "    display_images([content])\n",
    "    return True\n",
    "\n",
    "\n",
    "def display_content_as_video(content: str | Image | Part) -> bool:\n",
    "    if not isinstance(content, Part):\n",
    "        return False\n",
    "    part = typing.cast(Part, content)\n",
    "    file_path = part.file_data.file_uri.removeprefix(\"gs://\")\n",
    "    video_url = f\"https://storage.googleapis.com/{file_path}\"\n",
    "    IPython.display.display(IPython.display.Video(video_url, width=600))\n",
    "    return True\n",
    "\n",
    "\n",
    "def print_multimodal_prompt(contents: list[str | Image | Part]):\n",
    "    \"\"\"\n",
    "    Given contents that would be sent to Gemini,\n",
    "    output the full multimodal prompt for ease of readability.\n",
    "    \"\"\"\n",
    "    for content in contents:\n",
    "        if display_content_as_image(content):\n",
    "            continue\n",
    "        if display_content_as_video(content):\n",
    "            continue\n",
    "        print(content)"
   ]
  },
  {
   "cell_type": "code",
   "execution_count": 33,
   "metadata": {},
   "outputs": [],
   "source": [
    "def calculate_image_features(image_url, textual_summary):\n",
    "    try:\n",
    "        image = load_image_from_url(image_url)\n",
    "\n",
    "        instruction = '''\n",
    "You are an expert in Software Engineering and are very familiar with screenshots that are sometimes posted on Stack Overflow. Your only task is to infer whether or not the image attached along with textual content is code or IDE related image.\n",
    "                '''\n",
    "\n",
    "        prompt = '''\n",
    "Generate only keywords: Code, IDE-related, Not Related.\n",
    "'''\n",
    "\n",
    "\n",
    "        contents = [instruction,\n",
    "                    textual_summary,\n",
    "                    image,\n",
    "                    prompt,]\n",
    "\n",
    "        # Use a more deterministic configuration with a low temperature\n",
    "        generation_config = GenerationConfig(\n",
    "            temperature=0,\n",
    "            top_p=0.8,\n",
    "            top_k=40,\n",
    "            candidate_count=1,\n",
    "            max_output_tokens=2048,\n",
    "        )\n",
    "\n",
    "        responses = text_model.generate_content(\n",
    "            contents,\n",
    "            generation_config=generation_config,\n",
    "            stream=True,\n",
    "        )\n",
    "\n",
    "        print(\"-------Prompt--------\")\n",
    "        print_multimodal_prompt(contents)\n",
    "\n",
    "        print(\"\\n-------Response--------\")\n",
    "        generation_prompt = ''\n",
    "\n",
    "        print(\"\\n-------Response--------\")\n",
    "        for response in responses:\n",
    "            print(response.text, end=\"\\n\")\n",
    "            generation_prompt = generation_prompt + response.text    \n",
    "        print('\\n--------------------------------\\n')\n",
    "        return generation_prompt\n",
    "    \n",
    "    except Exception as e:\n",
    "        print(e)\n",
    "        return \"\""
   ]
  },
  {
   "cell_type": "code",
   "execution_count": 34,
   "metadata": {},
   "outputs": [],
   "source": [
    "import time\n",
    "import os\n",
    "from tqdm import tqdm\n",
    "\n",
    "def process_rows_with_delay(dataframe):\n",
    "    total_rows_processed = 0\n",
    "    \n",
    "    for i, row in tqdm(dataframe.iterrows(), total=dataframe.shape[0], desc=f'Processing'):\n",
    "        print(\"\\n\" + \"=\"*50)  # Clear separator between rows\n",
    "        print(f\"Processing Row ID: {row['Id']}\")  # Print ID of current row\n",
    "        \n",
    "        image_urls = [url.strip(\",\") for url in re.findall(r\"'([^']*)'\", str(row.get('ImageURLs')))]\n",
    "        textual_summary = row['Title'] + '\\n' + row['Body']\n",
    "\n",
    "        # Update count\n",
    "        total_rows_processed += 1\n",
    "        summary = ''\n",
    "        for image_url in image_urls:\n",
    "            temp = calculate_image_features(image_url, textual_summary)\n",
    "            if temp == '':\n",
    "                summary = summary\n",
    "            else:\n",
    "                summary += temp + '\\n'\n",
    "\n",
    "        print(f\"Completed processing Row ID: {row['Id']}\")\n",
    "        print(\"=\"*50 + \"\\n\")\n",
    "\n",
    "        # Add delay after every 3 rows\n",
    "        if total_rows_processed % 3 == 0:\n",
    "            print(\"\\nPausing for 60 seconds after processing 3 rows...\")\n",
    "            for remaining in range(60, 0, -1):\n",
    "                print(f\"\\rTime remaining: {remaining} seconds...\", end='')\n",
    "                time.sleep(1)\n",
    "            print(\"\\nResuming processing...\")"
   ]
  },
  {
   "cell_type": "code",
   "execution_count": 35,
   "metadata": {},
   "outputs": [
    {
     "data": {
      "text/html": [
       "<div>\n",
       "<style scoped>\n",
       "    .dataframe tbody tr th:only-of-type {\n",
       "        vertical-align: middle;\n",
       "    }\n",
       "\n",
       "    .dataframe tbody tr th {\n",
       "        vertical-align: top;\n",
       "    }\n",
       "\n",
       "    .dataframe thead th {\n",
       "        text-align: right;\n",
       "    }\n",
       "</style>\n",
       "<table border=\"1\" class=\"dataframe\">\n",
       "  <thead>\n",
       "    <tr style=\"text-align: right;\">\n",
       "      <th></th>\n",
       "      <th>Id</th>\n",
       "      <th>PostTypeId</th>\n",
       "      <th>AcceptedAnswerId</th>\n",
       "      <th>ParentId</th>\n",
       "      <th>CreationDate</th>\n",
       "      <th>DeletionDate</th>\n",
       "      <th>Score</th>\n",
       "      <th>ViewCount</th>\n",
       "      <th>Body</th>\n",
       "      <th>OwnerUserId</th>\n",
       "      <th>...</th>\n",
       "      <th>Title</th>\n",
       "      <th>Tags</th>\n",
       "      <th>AnswerCount</th>\n",
       "      <th>CommentCount</th>\n",
       "      <th>FavoriteCount</th>\n",
       "      <th>ClosedDate</th>\n",
       "      <th>CommunityOwnedDate</th>\n",
       "      <th>ContentLicense</th>\n",
       "      <th>CodeText</th>\n",
       "      <th>ImageURLs</th>\n",
       "    </tr>\n",
       "  </thead>\n",
       "  <tbody>\n",
       "    <tr>\n",
       "      <th>21</th>\n",
       "      <td>79146168</td>\n",
       "      <td>1</td>\n",
       "      <td>NaN</td>\n",
       "      <td>NaN</td>\n",
       "      <td>2024-10-31 19:54:54</td>\n",
       "      <td>NaN</td>\n",
       "      <td>1</td>\n",
       "      <td>16</td>\n",
       "      <td>With Echarts, I dont know how clip the endLabe...</td>\n",
       "      <td>10204632.0</td>\n",
       "      <td>...</td>\n",
       "      <td>Echarts endLabel doesn't clip on zoom</td>\n",
       "      <td>&lt;javascript&gt;&lt;echarts&gt;</td>\n",
       "      <td>1</td>\n",
       "      <td>0</td>\n",
       "      <td>NaN</td>\n",
       "      <td>NaN</td>\n",
       "      <td>NaN</td>\n",
       "      <td>CC BY-SA 4.0</td>\n",
       "      <td>// prettier-ignore\\nconst data = [[\"2000-06-05...</td>\n",
       "      <td>['https://i.sstatic.net/e8pEyHgv.png']</td>\n",
       "    </tr>\n",
       "    <tr>\n",
       "      <th>22</th>\n",
       "      <td>79146160</td>\n",
       "      <td>1</td>\n",
       "      <td>NaN</td>\n",
       "      <td>NaN</td>\n",
       "      <td>2024-10-31 19:51:01</td>\n",
       "      <td>NaN</td>\n",
       "      <td>0</td>\n",
       "      <td>55</td>\n",
       "      <td>A node of a binary tree has an ID and left sub...</td>\n",
       "      <td>23993901.0</td>\n",
       "      <td>...</td>\n",
       "      <td>how to reorder a binary tree</td>\n",
       "      <td>&lt;java&gt;</td>\n",
       "      <td>0</td>\n",
       "      <td>8</td>\n",
       "      <td>NaN</td>\n",
       "      <td>2024-10-31 23:45:06</td>\n",
       "      <td>NaN</td>\n",
       "      <td>CC BY-SA 4.0</td>\n",
       "      <td>class Node{\\n    public int id;\\n    public Tr...</td>\n",
       "      <td>['https://i.sstatic.net/Wian1JBw.png', 'https:...</td>\n",
       "    </tr>\n",
       "    <tr>\n",
       "      <th>23</th>\n",
       "      <td>79146147</td>\n",
       "      <td>1</td>\n",
       "      <td>79149136.0</td>\n",
       "      <td>NaN</td>\n",
       "      <td>2024-10-31 19:44:43</td>\n",
       "      <td>NaN</td>\n",
       "      <td>0</td>\n",
       "      <td>44</td>\n",
       "      <td>I've been using google calendar to track event...</td>\n",
       "      <td>15754761.0</td>\n",
       "      <td>...</td>\n",
       "      <td>Downloading google calendar event attachment</td>\n",
       "      <td>&lt;go&gt;&lt;google-cloud-platform&gt;&lt;drive&gt;</td>\n",
       "      <td>1</td>\n",
       "      <td>0</td>\n",
       "      <td>NaN</td>\n",
       "      <td>NaN</td>\n",
       "      <td>NaN</td>\n",
       "      <td>CC BY-SA 4.0</td>\n",
       "      <td>credentials.json [Where ServiceAccount and G...</td>\n",
       "      <td>['https://i.sstatic.net/bZtnzuXU.png']</td>\n",
       "    </tr>\n",
       "    <tr>\n",
       "      <th>24</th>\n",
       "      <td>79146127</td>\n",
       "      <td>1</td>\n",
       "      <td>NaN</td>\n",
       "      <td>NaN</td>\n",
       "      <td>2024-10-31 19:34:12</td>\n",
       "      <td>NaN</td>\n",
       "      <td>1</td>\n",
       "      <td>29</td>\n",
       "      <td>I'm using TypeScript, ESM, npm, and ts-jest. U...</td>\n",
       "      <td>9572172.0</td>\n",
       "      <td>...</td>\n",
       "      <td>SyntaxError: Cannot use import statement outsi...</td>\n",
       "      <td>&lt;typescript&gt;&lt;jestjs&gt;&lt;es6-modules&gt;&lt;ts-jest&gt;</td>\n",
       "      <td>0</td>\n",
       "      <td>0</td>\n",
       "      <td>NaN</td>\n",
       "      <td>NaN</td>\n",
       "      <td>NaN</td>\n",
       "      <td>CC BY-SA 4.0</td>\n",
       "      <td>export default {\\n  preset: 'ts-jest/presets/d...</td>\n",
       "      <td>['https://i.sstatic.net/Jp5wj6k2.png']</td>\n",
       "    </tr>\n",
       "    <tr>\n",
       "      <th>25</th>\n",
       "      <td>79146123</td>\n",
       "      <td>1</td>\n",
       "      <td>NaN</td>\n",
       "      <td>NaN</td>\n",
       "      <td>2024-10-31 19:31:13</td>\n",
       "      <td>NaN</td>\n",
       "      <td>0</td>\n",
       "      <td>22</td>\n",
       "      <td>I have a usecase where my workers have run abo...</td>\n",
       "      <td>2289031.0</td>\n",
       "      <td>...</td>\n",
       "      <td>How to handle number of queries that need to b...</td>\n",
       "      <td>&lt;amazon-web-services&gt;&lt;aws-lambda&gt;&lt;aws-fargate&gt;...</td>\n",
       "      <td>0</td>\n",
       "      <td>6</td>\n",
       "      <td>NaN</td>\n",
       "      <td>NaN</td>\n",
       "      <td>NaN</td>\n",
       "      <td>CC BY-SA 4.0</td>\n",
       "      <td>NaN</td>\n",
       "      <td>['https://i.sstatic.net/WioH15Tw.png']</td>\n",
       "    </tr>\n",
       "  </tbody>\n",
       "</table>\n",
       "<p>5 rows × 25 columns</p>\n",
       "</div>"
      ],
      "text/plain": [
       "          Id  PostTypeId  AcceptedAnswerId  ParentId         CreationDate  \\\n",
       "21  79146168           1               NaN       NaN  2024-10-31 19:54:54   \n",
       "22  79146160           1               NaN       NaN  2024-10-31 19:51:01   \n",
       "23  79146147           1        79149136.0       NaN  2024-10-31 19:44:43   \n",
       "24  79146127           1               NaN       NaN  2024-10-31 19:34:12   \n",
       "25  79146123           1               NaN       NaN  2024-10-31 19:31:13   \n",
       "\n",
       "    DeletionDate  Score  ViewCount  \\\n",
       "21           NaN      1         16   \n",
       "22           NaN      0         55   \n",
       "23           NaN      0         44   \n",
       "24           NaN      1         29   \n",
       "25           NaN      0         22   \n",
       "\n",
       "                                                 Body  OwnerUserId  ...  \\\n",
       "21  With Echarts, I dont know how clip the endLabe...   10204632.0  ...   \n",
       "22  A node of a binary tree has an ID and left sub...   23993901.0  ...   \n",
       "23  I've been using google calendar to track event...   15754761.0  ...   \n",
       "24  I'm using TypeScript, ESM, npm, and ts-jest. U...    9572172.0  ...   \n",
       "25  I have a usecase where my workers have run abo...    2289031.0  ...   \n",
       "\n",
       "                                                Title  \\\n",
       "21              Echarts endLabel doesn't clip on zoom   \n",
       "22                       how to reorder a binary tree   \n",
       "23       Downloading google calendar event attachment   \n",
       "24  SyntaxError: Cannot use import statement outsi...   \n",
       "25  How to handle number of queries that need to b...   \n",
       "\n",
       "                                                 Tags  AnswerCount  \\\n",
       "21                              <javascript><echarts>            1   \n",
       "22                                             <java>            0   \n",
       "23                 <go><google-cloud-platform><drive>            1   \n",
       "24         <typescript><jestjs><es6-modules><ts-jest>            0   \n",
       "25  <amazon-web-services><aws-lambda><aws-fargate>...            0   \n",
       "\n",
       "   CommentCount FavoriteCount           ClosedDate CommunityOwnedDate  \\\n",
       "21            0           NaN                  NaN                NaN   \n",
       "22            8           NaN  2024-10-31 23:45:06                NaN   \n",
       "23            0           NaN                  NaN                NaN   \n",
       "24            0           NaN                  NaN                NaN   \n",
       "25            6           NaN                  NaN                NaN   \n",
       "\n",
       "    ContentLicense                                           CodeText  \\\n",
       "21    CC BY-SA 4.0  // prettier-ignore\\nconst data = [[\"2000-06-05...   \n",
       "22    CC BY-SA 4.0  class Node{\\n    public int id;\\n    public Tr...   \n",
       "23    CC BY-SA 4.0    credentials.json [Where ServiceAccount and G...   \n",
       "24    CC BY-SA 4.0  export default {\\n  preset: 'ts-jest/presets/d...   \n",
       "25    CC BY-SA 4.0                                                NaN   \n",
       "\n",
       "                                            ImageURLs  \n",
       "21             ['https://i.sstatic.net/e8pEyHgv.png']  \n",
       "22  ['https://i.sstatic.net/Wian1JBw.png', 'https:...  \n",
       "23             ['https://i.sstatic.net/bZtnzuXU.png']  \n",
       "24             ['https://i.sstatic.net/Jp5wj6k2.png']  \n",
       "25             ['https://i.sstatic.net/WioH15Tw.png']  \n",
       "\n",
       "[5 rows x 25 columns]"
      ]
     },
     "execution_count": 35,
     "metadata": {},
     "output_type": "execute_result"
    }
   ],
   "source": [
    "dataset = pd.read_csv('Data/Data.csv').iloc[21:41]\n",
    "dataset.head()"
   ]
  },
  {
   "cell_type": "code",
   "execution_count": null,
   "metadata": {},
   "outputs": [],
   "source": [
    "\n",
    "process_rows_with_delay(dataset)"
   ]
  },
  {
   "cell_type": "code",
   "execution_count": 89,
   "metadata": {},
   "outputs": [
    {
     "data": {
      "text/html": [
       "<div>\n",
       "<style scoped>\n",
       "    .dataframe tbody tr th:only-of-type {\n",
       "        vertical-align: middle;\n",
       "    }\n",
       "\n",
       "    .dataframe tbody tr th {\n",
       "        vertical-align: top;\n",
       "    }\n",
       "\n",
       "    .dataframe thead th {\n",
       "        text-align: right;\n",
       "    }\n",
       "</style>\n",
       "<table border=\"1\" class=\"dataframe\">\n",
       "  <thead>\n",
       "    <tr style=\"text-align: right;\">\n",
       "      <th></th>\n",
       "      <th>Id</th>\n",
       "      <th>PostTypeId</th>\n",
       "      <th>AcceptedAnswerId</th>\n",
       "      <th>ParentId</th>\n",
       "      <th>CreationDate</th>\n",
       "      <th>DeletionDate</th>\n",
       "      <th>Score</th>\n",
       "      <th>ViewCount</th>\n",
       "      <th>Body</th>\n",
       "      <th>OwnerUserId</th>\n",
       "      <th>...</th>\n",
       "      <th>Title</th>\n",
       "      <th>Tags</th>\n",
       "      <th>AnswerCount</th>\n",
       "      <th>CommentCount</th>\n",
       "      <th>FavoriteCount</th>\n",
       "      <th>ClosedDate</th>\n",
       "      <th>CommunityOwnedDate</th>\n",
       "      <th>ContentLicense</th>\n",
       "      <th>CodeText</th>\n",
       "      <th>ImageURLs</th>\n",
       "    </tr>\n",
       "  </thead>\n",
       "  <tbody>\n",
       "    <tr>\n",
       "      <th>0</th>\n",
       "      <td>79146615</td>\n",
       "      <td>1</td>\n",
       "      <td>NaN</td>\n",
       "      <td>NaN</td>\n",
       "      <td>2024-10-31 23:57:37</td>\n",
       "      <td>NaN</td>\n",
       "      <td>2</td>\n",
       "      <td>22</td>\n",
       "      <td>I need to create a subpage (sub-item) of a pre...</td>\n",
       "      <td>4398952.0</td>\n",
       "      <td>...</td>\n",
       "      <td>Creating a subpage (sub-item) through Notion API</td>\n",
       "      <td>&lt;notion-api&gt;&lt;notion&gt;</td>\n",
       "      <td>1</td>\n",
       "      <td>0</td>\n",
       "      <td>NaN</td>\n",
       "      <td>NaN</td>\n",
       "      <td>NaN</td>\n",
       "      <td>CC BY-SA 4.0</td>\n",
       "      <td>Sub item\\nParent item\\nupdate page\\nParent ite...</td>\n",
       "      <td>['https://i.sstatic.net/yrb2DNc0.png', 'https:...</td>\n",
       "    </tr>\n",
       "    <tr>\n",
       "      <th>1</th>\n",
       "      <td>79146611</td>\n",
       "      <td>1</td>\n",
       "      <td>NaN</td>\n",
       "      <td>NaN</td>\n",
       "      <td>2024-10-31 23:54:59</td>\n",
       "      <td>NaN</td>\n",
       "      <td>2</td>\n",
       "      <td>41</td>\n",
       "      <td>I have a LineChart where axisLeft.axisMinimum ...</td>\n",
       "      <td>21069914.0</td>\n",
       "      <td>...</td>\n",
       "      <td>Why are LineChart lines plotting above the cor...</td>\n",
       "      <td>&lt;java&gt;&lt;android&gt;&lt;kotlin&gt;&lt;mpandroidchart&gt;&lt;linegr...</td>\n",
       "      <td>1</td>\n",
       "      <td>0</td>\n",
       "      <td>NaN</td>\n",
       "      <td>NaN</td>\n",
       "      <td>NaN</td>\n",
       "      <td>CC BY-SA 4.0</td>\n",
       "      <td>axisLeft.axisMinimum = -0.5f\\nval dataPoints =...</td>\n",
       "      <td>['https://i.sstatic.net/iVIPKeBj.png', 'https:...</td>\n",
       "    </tr>\n",
       "    <tr>\n",
       "      <th>2</th>\n",
       "      <td>79146597</td>\n",
       "      <td>1</td>\n",
       "      <td>79146765.0</td>\n",
       "      <td>NaN</td>\n",
       "      <td>2024-10-31 23:43:47</td>\n",
       "      <td>NaN</td>\n",
       "      <td>0</td>\n",
       "      <td>33</td>\n",
       "      <td>I'm trying to make the header rounder and exte...</td>\n",
       "      <td>28082335.0</td>\n",
       "      <td>...</td>\n",
       "      <td>How to make a rounded header where the logo is</td>\n",
       "      <td>&lt;html&gt;&lt;css&gt;</td>\n",
       "      <td>1</td>\n",
       "      <td>3</td>\n",
       "      <td>NaN</td>\n",
       "      <td>NaN</td>\n",
       "      <td>NaN</td>\n",
       "      <td>CC BY-SA 4.0</td>\n",
       "      <td>NaN</td>\n",
       "      <td>['https://i.sstatic.net/gmviaXIz.jpg']</td>\n",
       "    </tr>\n",
       "    <tr>\n",
       "      <th>3</th>\n",
       "      <td>79146594</td>\n",
       "      <td>1</td>\n",
       "      <td>NaN</td>\n",
       "      <td>NaN</td>\n",
       "      <td>2024-10-31 23:41:25</td>\n",
       "      <td>NaN</td>\n",
       "      <td>0</td>\n",
       "      <td>26</td>\n",
       "      <td>In my Jetpack Compose app, it seems that any t...</td>\n",
       "      <td>673206.0</td>\n",
       "      <td>...</td>\n",
       "      <td>Do not dismiss keyboard when DropdownMenu is o...</td>\n",
       "      <td>&lt;android&gt;&lt;android-jetpack-compose&gt;&lt;android-com...</td>\n",
       "      <td>1</td>\n",
       "      <td>0</td>\n",
       "      <td>NaN</td>\n",
       "      <td>NaN</td>\n",
       "      <td>NaN</td>\n",
       "      <td>CC BY-SA 4.0</td>\n",
       "      <td>DropdownMenu\\nTextField\\nDropdownMenu</td>\n",
       "      <td>['https://i.sstatic.net/9Q7vdZKN.gif', 'https:...</td>\n",
       "    </tr>\n",
       "    <tr>\n",
       "      <th>4</th>\n",
       "      <td>79146582</td>\n",
       "      <td>1</td>\n",
       "      <td>NaN</td>\n",
       "      <td>NaN</td>\n",
       "      <td>2024-10-31 23:28:00</td>\n",
       "      <td>NaN</td>\n",
       "      <td>0</td>\n",
       "      <td>38</td>\n",
       "      <td>I'm using VNRecognizeTextRequest in an OCR ser...</td>\n",
       "      <td>883572.0</td>\n",
       "      <td>...</td>\n",
       "      <td>VNRecognizeTextRequest fails but can select te...</td>\n",
       "      <td>&lt;macos&gt;&lt;swiftui&gt;&lt;ocr&gt;</td>\n",
       "      <td>1</td>\n",
       "      <td>0</td>\n",
       "      <td>NaN</td>\n",
       "      <td>NaN</td>\n",
       "      <td>NaN</td>\n",
       "      <td>CC BY-SA 4.0</td>\n",
       "      <td>VNRecognizeTextRequest\\nVNRecognize\\nVNRecogni...</td>\n",
       "      <td>['https://i.sstatic.net/9sp3EwKN.png', 'https:...</td>\n",
       "    </tr>\n",
       "  </tbody>\n",
       "</table>\n",
       "<p>5 rows × 25 columns</p>\n",
       "</div>"
      ],
      "text/plain": [
       "         Id  PostTypeId  AcceptedAnswerId  ParentId         CreationDate  \\\n",
       "0  79146615           1               NaN       NaN  2024-10-31 23:57:37   \n",
       "1  79146611           1               NaN       NaN  2024-10-31 23:54:59   \n",
       "2  79146597           1        79146765.0       NaN  2024-10-31 23:43:47   \n",
       "3  79146594           1               NaN       NaN  2024-10-31 23:41:25   \n",
       "4  79146582           1               NaN       NaN  2024-10-31 23:28:00   \n",
       "\n",
       "   DeletionDate  Score  ViewCount  \\\n",
       "0           NaN      2         22   \n",
       "1           NaN      2         41   \n",
       "2           NaN      0         33   \n",
       "3           NaN      0         26   \n",
       "4           NaN      0         38   \n",
       "\n",
       "                                                Body  OwnerUserId  ...  \\\n",
       "0  I need to create a subpage (sub-item) of a pre...    4398952.0  ...   \n",
       "1  I have a LineChart where axisLeft.axisMinimum ...   21069914.0  ...   \n",
       "2  I'm trying to make the header rounder and exte...   28082335.0  ...   \n",
       "3  In my Jetpack Compose app, it seems that any t...     673206.0  ...   \n",
       "4  I'm using VNRecognizeTextRequest in an OCR ser...     883572.0  ...   \n",
       "\n",
       "                                               Title  \\\n",
       "0   Creating a subpage (sub-item) through Notion API   \n",
       "1  Why are LineChart lines plotting above the cor...   \n",
       "2     How to make a rounded header where the logo is   \n",
       "3  Do not dismiss keyboard when DropdownMenu is o...   \n",
       "4  VNRecognizeTextRequest fails but can select te...   \n",
       "\n",
       "                                                Tags  AnswerCount  \\\n",
       "0                               <notion-api><notion>            1   \n",
       "1  <java><android><kotlin><mpandroidchart><linegr...            1   \n",
       "2                                        <html><css>            1   \n",
       "3  <android><android-jetpack-compose><android-com...            1   \n",
       "4                              <macos><swiftui><ocr>            1   \n",
       "\n",
       "  CommentCount FavoriteCount ClosedDate CommunityOwnedDate  ContentLicense  \\\n",
       "0            0           NaN        NaN                NaN    CC BY-SA 4.0   \n",
       "1            0           NaN        NaN                NaN    CC BY-SA 4.0   \n",
       "2            3           NaN        NaN                NaN    CC BY-SA 4.0   \n",
       "3            0           NaN        NaN                NaN    CC BY-SA 4.0   \n",
       "4            0           NaN        NaN                NaN    CC BY-SA 4.0   \n",
       "\n",
       "                                            CodeText  \\\n",
       "0  Sub item\\nParent item\\nupdate page\\nParent ite...   \n",
       "1  axisLeft.axisMinimum = -0.5f\\nval dataPoints =...   \n",
       "2                                                NaN   \n",
       "3              DropdownMenu\\nTextField\\nDropdownMenu   \n",
       "4  VNRecognizeTextRequest\\nVNRecognize\\nVNRecogni...   \n",
       "\n",
       "                                           ImageURLs  \n",
       "0  ['https://i.sstatic.net/yrb2DNc0.png', 'https:...  \n",
       "1  ['https://i.sstatic.net/iVIPKeBj.png', 'https:...  \n",
       "2             ['https://i.sstatic.net/gmviaXIz.jpg']  \n",
       "3  ['https://i.sstatic.net/9Q7vdZKN.gif', 'https:...  \n",
       "4  ['https://i.sstatic.net/9sp3EwKN.png', 'https:...  \n",
       "\n",
       "[5 rows x 25 columns]"
      ]
     },
     "execution_count": 89,
     "metadata": {},
     "output_type": "execute_result"
    }
   ],
   "source": [
    "dataset = pd.read_csv('Data/Data.csv')\n",
    "dataset.head()"
   ]
  },
  {
   "cell_type": "code",
   "execution_count": 96,
   "metadata": {},
   "outputs": [],
   "source": [
    "import ast\n",
    "\n",
    "# Convert string representation of list to actual list and get length\n",
    "filtered_df = dataset[dataset['ImageURLs'].apply(lambda x: len(ast.literal_eval(x)) == 1)]"
   ]
  },
  {
   "cell_type": "code",
   "execution_count": 97,
   "metadata": {},
   "outputs": [],
   "source": [
    "# Each comma indicates an additional URL, so count commas and keep rows with 0 commas\n",
    "filtered_df = dataset[dataset['ImageURLs'].str.count(',') == 0]"
   ]
  },
  {
   "cell_type": "code",
   "execution_count": 98,
   "metadata": {},
   "outputs": [
    {
     "name": "stdout",
     "output_type": "stream",
     "text": [
      "<class 'pandas.core.frame.DataFrame'>\n",
      "Index: 2616 entries, 2 to 4156\n",
      "Data columns (total 25 columns):\n",
      " #   Column                 Non-Null Count  Dtype  \n",
      "---  ------                 --------------  -----  \n",
      " 0   Id                     2616 non-null   int64  \n",
      " 1   PostTypeId             2616 non-null   int64  \n",
      " 2   AcceptedAnswerId       607 non-null    float64\n",
      " 3   ParentId               0 non-null      float64\n",
      " 4   CreationDate           2616 non-null   object \n",
      " 5   DeletionDate           0 non-null      float64\n",
      " 6   Score                  2616 non-null   int64  \n",
      " 7   ViewCount              2616 non-null   int64  \n",
      " 8   Body                   2616 non-null   object \n",
      " 9   OwnerUserId            2610 non-null   float64\n",
      " 10  OwnerDisplayName       7 non-null      object \n",
      " 11  LastEditorUserId       1411 non-null   float64\n",
      " 12  LastEditorDisplayName  0 non-null      float64\n",
      " 13  LastEditDate           1411 non-null   object \n",
      " 14  LastActivityDate       2616 non-null   object \n",
      " 15  Title                  2616 non-null   object \n",
      " 16  Tags                   2616 non-null   object \n",
      " 17  AnswerCount            2616 non-null   int64  \n",
      " 18  CommentCount           2616 non-null   int64  \n",
      " 19  FavoriteCount          0 non-null      float64\n",
      " 20  ClosedDate             234 non-null    object \n",
      " 21  CommunityOwnedDate     0 non-null      float64\n",
      " 22  ContentLicense         2616 non-null   object \n",
      " 23  CodeText               2067 non-null   object \n",
      " 24  ImageURLs              2616 non-null   object \n",
      "dtypes: float64(8), int64(6), object(11)\n",
      "memory usage: 531.4+ KB\n"
     ]
    }
   ],
   "source": [
    "filtered_df.info()"
   ]
  },
  {
   "cell_type": "code",
   "execution_count": 99,
   "metadata": {},
   "outputs": [],
   "source": [
    "filtered_df.to_csv('Data/Data.csv')"
   ]
  },
  {
   "cell_type": "code",
   "execution_count": 153,
   "metadata": {},
   "outputs": [],
   "source": [
    "dataset = pd.read_csv('Data/Data.csv').iloc[2461:2481]"
   ]
  },
  {
   "cell_type": "code",
   "execution_count": 154,
   "metadata": {},
   "outputs": [
    {
     "name": "stderr",
     "output_type": "stream",
     "text": [
      "Processing:   0%|          | 0/20 [00:00<?, ?it/s]"
     ]
    },
    {
     "name": "stdout",
     "output_type": "stream",
     "text": [
      "\n",
      "==================================================\n",
      "Row ID: 79048749\n",
      "\n",
      "Images:\n",
      "\n",
      "Image 1:\n"
     ]
    },
    {
     "data": {
      "text/html": [
       "<img src=\"https://i.sstatic.net/oTXsr3dA.png\"/>"
      ],
      "text/plain": [
       "<IPython.core.display.Image object>"
      ]
     },
     "metadata": {},
     "output_type": "display_data"
    },
    {
     "name": "stdout",
     "output_type": "stream",
     "text": [
      "==================================================\n",
      "\n",
      "\n",
      "==================================================\n",
      "Row ID: 79048715\n",
      "\n",
      "Images:\n",
      "\n",
      "Image 1:\n"
     ]
    },
    {
     "data": {
      "text/html": [
       "<img src=\"https://i.sstatic.net/Z4zwkeim.png\"/>"
      ],
      "text/plain": [
       "<IPython.core.display.Image object>"
      ]
     },
     "metadata": {},
     "output_type": "display_data"
    },
    {
     "name": "stdout",
     "output_type": "stream",
     "text": [
      "==================================================\n",
      "\n",
      "\n",
      "==================================================\n",
      "Row ID: 79048714\n",
      "\n",
      "Images:\n",
      "\n",
      "Image 1:\n"
     ]
    },
    {
     "data": {
      "text/html": [
       "<img src=\"https://i.sstatic.net/wj0v09sY.png\"/>"
      ],
      "text/plain": [
       "<IPython.core.display.Image object>"
      ]
     },
     "metadata": {},
     "output_type": "display_data"
    },
    {
     "name": "stdout",
     "output_type": "stream",
     "text": [
      "==================================================\n",
      "\n",
      "\n",
      "==================================================\n",
      "Row ID: 79048534\n",
      "\n",
      "Images:\n",
      "\n",
      "Image 1:\n"
     ]
    },
    {
     "data": {
      "text/html": [
       "<img src=\"https://i.sstatic.net/0b8vbIWC.png\"/>"
      ],
      "text/plain": [
       "<IPython.core.display.Image object>"
      ]
     },
     "metadata": {},
     "output_type": "display_data"
    },
    {
     "name": "stdout",
     "output_type": "stream",
     "text": [
      "==================================================\n",
      "\n",
      "\n",
      "==================================================\n",
      "Row ID: 79048517\n",
      "\n",
      "Images:\n",
      "\n",
      "Image 1:\n"
     ]
    },
    {
     "data": {
      "text/html": [
       "<img src=\"https://i.sstatic.net/I6uNq1Wk.png\"/>"
      ],
      "text/plain": [
       "<IPython.core.display.Image object>"
      ]
     },
     "metadata": {},
     "output_type": "display_data"
    },
    {
     "name": "stdout",
     "output_type": "stream",
     "text": [
      "==================================================\n",
      "\n",
      "\n",
      "==================================================\n",
      "Row ID: 79048509\n",
      "\n",
      "Images:\n",
      "\n",
      "Image 1:\n"
     ]
    },
    {
     "data": {
      "text/html": [
       "<img src=\"https://i.sstatic.net/xFTV0Jfi.png\"/>"
      ],
      "text/plain": [
       "<IPython.core.display.Image object>"
      ]
     },
     "metadata": {},
     "output_type": "display_data"
    },
    {
     "name": "stdout",
     "output_type": "stream",
     "text": [
      "==================================================\n",
      "\n",
      "\n",
      "==================================================\n",
      "Row ID: 79048500\n",
      "\n",
      "Images:\n",
      "\n",
      "Image 1:\n"
     ]
    },
    {
     "data": {
      "text/html": [
       "<img src=\"https://i.sstatic.net/IYkUesuW.png\"/>"
      ],
      "text/plain": [
       "<IPython.core.display.Image object>"
      ]
     },
     "metadata": {},
     "output_type": "display_data"
    },
    {
     "name": "stdout",
     "output_type": "stream",
     "text": [
      "==================================================\n",
      "\n",
      "\n",
      "==================================================\n",
      "Row ID: 79048361\n",
      "\n",
      "Images:\n",
      "\n",
      "Image 1:\n"
     ]
    },
    {
     "data": {
      "text/html": [
       "<img src=\"https://latex.codecogs.com/svg.image?%5Ctext%7BSINR%7D_%7Bik%7D=%5Cfrac%7B%7C%5Cmathbf%7Bw%7D_i%5EH%5Cmathbf%7Bh%7D_%7Bik%7D%7C%5E2%7D%7B%5Csum_%7Bj%5Cneq%20i%7D%5EG%7C%5Cmathbf%7Bw%7D_j%5EH%5Cmathbf%7Bh%7D_%7Bik%7D%7C%5E2+%5Csigma%5E2%7D\"/>"
      ],
      "text/plain": [
       "<IPython.core.display.Image object>"
      ]
     },
     "metadata": {},
     "output_type": "display_data"
    },
    {
     "name": "stdout",
     "output_type": "stream",
     "text": [
      "==================================================\n",
      "\n",
      "\n",
      "==================================================\n",
      "Row ID: 79048355\n",
      "\n",
      "Images:\n",
      "\n",
      "Image 1:\n"
     ]
    },
    {
     "data": {
      "text/html": [
       "<img src=\"https://i.sstatic.net/TuvueXJj.png\"/>"
      ],
      "text/plain": [
       "<IPython.core.display.Image object>"
      ]
     },
     "metadata": {},
     "output_type": "display_data"
    },
    {
     "name": "stdout",
     "output_type": "stream",
     "text": [
      "==================================================\n",
      "\n",
      "\n",
      "==================================================\n",
      "Row ID: 79048098\n",
      "\n",
      "Images:\n",
      "\n",
      "Image 1:\n"
     ]
    },
    {
     "data": {
      "text/html": [
       "<img src=\"https://i.sstatic.net/fkVhZV6t.png\"/>"
      ],
      "text/plain": [
       "<IPython.core.display.Image object>"
      ]
     },
     "metadata": {},
     "output_type": "display_data"
    },
    {
     "name": "stdout",
     "output_type": "stream",
     "text": [
      "==================================================\n",
      "\n",
      "\n",
      "==================================================\n",
      "Row ID: 79048028\n",
      "\n",
      "Images:\n",
      "\n",
      "Image 1:\n"
     ]
    },
    {
     "data": {
      "text/html": [
       "<img src=\"https://i.sstatic.net/6HqvzikB.png\"/>"
      ],
      "text/plain": [
       "<IPython.core.display.Image object>"
      ]
     },
     "metadata": {},
     "output_type": "display_data"
    },
    {
     "name": "stdout",
     "output_type": "stream",
     "text": [
      "==================================================\n",
      "\n",
      "\n",
      "==================================================\n",
      "Row ID: 79047983\n",
      "\n",
      "Images:\n",
      "\n",
      "Image 1:\n"
     ]
    },
    {
     "data": {
      "text/html": [
       "<img src=\"https://i.sstatic.net/AvvOdt8J.png\"/>"
      ],
      "text/plain": [
       "<IPython.core.display.Image object>"
      ]
     },
     "metadata": {},
     "output_type": "display_data"
    },
    {
     "name": "stdout",
     "output_type": "stream",
     "text": [
      "==================================================\n",
      "\n",
      "\n",
      "==================================================\n",
      "Row ID: 79047976\n",
      "\n",
      "Images:\n",
      "\n",
      "Image 1:\n"
     ]
    },
    {
     "data": {
      "text/html": [
       "<img src=\"https://i.sstatic.net/JVyf1E2C.jpg\"/>"
      ],
      "text/plain": [
       "<IPython.core.display.Image object>"
      ]
     },
     "metadata": {},
     "output_type": "display_data"
    },
    {
     "name": "stdout",
     "output_type": "stream",
     "text": [
      "==================================================\n",
      "\n",
      "\n",
      "==================================================\n",
      "Row ID: 79047869\n",
      "\n",
      "Images:\n",
      "\n",
      "Image 1:\n"
     ]
    },
    {
     "data": {
      "text/html": [
       "<img src=\"https://i.sstatic.net/w9Iq0HY8.png\"/>"
      ],
      "text/plain": [
       "<IPython.core.display.Image object>"
      ]
     },
     "metadata": {},
     "output_type": "display_data"
    },
    {
     "name": "stdout",
     "output_type": "stream",
     "text": [
      "==================================================\n",
      "\n",
      "\n",
      "==================================================\n",
      "Row ID: 79047861\n",
      "\n",
      "Images:\n",
      "\n",
      "Image 1:\n"
     ]
    },
    {
     "data": {
      "text/html": [
       "<img src=\"https://i.sstatic.net/ifhe10j8.png\"/>"
      ],
      "text/plain": [
       "<IPython.core.display.Image object>"
      ]
     },
     "metadata": {},
     "output_type": "display_data"
    },
    {
     "name": "stdout",
     "output_type": "stream",
     "text": [
      "==================================================\n",
      "\n",
      "\n",
      "==================================================\n",
      "Row ID: 79047727\n",
      "\n",
      "Images:\n",
      "\n",
      "Image 1:\n"
     ]
    },
    {
     "data": {
      "text/html": [
       "<img src=\"https://i.sstatic.net/JmidVP2C.png\"/>"
      ],
      "text/plain": [
       "<IPython.core.display.Image object>"
      ]
     },
     "metadata": {},
     "output_type": "display_data"
    },
    {
     "name": "stdout",
     "output_type": "stream",
     "text": [
      "==================================================\n",
      "\n",
      "\n",
      "==================================================\n",
      "Row ID: 79047648\n",
      "\n",
      "Images:\n",
      "\n",
      "Image 1:\n"
     ]
    },
    {
     "data": {
      "text/html": [
       "<img src=\"https://i.sstatic.net/9aspW5KN.jpg\"/>"
      ],
      "text/plain": [
       "<IPython.core.display.Image object>"
      ]
     },
     "metadata": {},
     "output_type": "display_data"
    },
    {
     "name": "stdout",
     "output_type": "stream",
     "text": [
      "==================================================\n",
      "\n",
      "\n",
      "==================================================\n",
      "Row ID: 79047641\n",
      "\n",
      "Images:\n",
      "\n",
      "Image 1:\n"
     ]
    },
    {
     "data": {
      "text/html": [
       "<img src=\"https://i.sstatic.net/F0v1307V.png\"/>"
      ],
      "text/plain": [
       "<IPython.core.display.Image object>"
      ]
     },
     "metadata": {},
     "output_type": "display_data"
    },
    {
     "name": "stdout",
     "output_type": "stream",
     "text": [
      "==================================================\n",
      "\n",
      "\n",
      "==================================================\n",
      "Row ID: 79047610\n",
      "\n",
      "Images:\n",
      "\n",
      "Image 1:\n"
     ]
    },
    {
     "data": {
      "text/html": [
       "<img src=\"https://i.sstatic.net/wsOQD2Y8.png\"/>"
      ],
      "text/plain": [
       "<IPython.core.display.Image object>"
      ]
     },
     "metadata": {},
     "output_type": "display_data"
    },
    {
     "name": "stdout",
     "output_type": "stream",
     "text": [
      "==================================================\n",
      "\n",
      "\n",
      "==================================================\n",
      "Row ID: 79047597\n",
      "\n",
      "Images:\n",
      "\n",
      "Image 1:\n"
     ]
    },
    {
     "data": {
      "text/html": [
       "<img src=\"https://i.sstatic.net/MBsoLkfp.png\"/>"
      ],
      "text/plain": [
       "<IPython.core.display.Image object>"
      ]
     },
     "metadata": {},
     "output_type": "display_data"
    },
    {
     "name": "stderr",
     "output_type": "stream",
     "text": [
      "Processing: 100%|██████████| 20/20 [00:00<00:00, 1344.74it/s]"
     ]
    },
    {
     "name": "stdout",
     "output_type": "stream",
     "text": [
      "==================================================\n",
      "\n"
     ]
    },
    {
     "name": "stderr",
     "output_type": "stream",
     "text": [
      "\n"
     ]
    }
   ],
   "source": [
    "from tqdm import tqdm\n",
    "import re\n",
    "from IPython.display import Image, display\n",
    "\n",
    "def process_rows(dataframe):\n",
    "    for i, row in tqdm(dataframe.iterrows(), total=dataframe.shape[0], desc=f'Processing'):\n",
    "        print(\"\\n\" + \"=\"*50)  # Clear separator between rows\n",
    "        print(f\"Row ID: {row['Id']}\")  # Print ID of current row\n",
    "        \n",
    "        # Extract and display images\n",
    "        image_urls = [url.strip(\",\") for url in re.findall(r\"'([^']*)'\", str(row.get('ImageURLs')))]\n",
    "        print(\"\\nImages:\")\n",
    "        if image_urls:\n",
    "            for idx, url in enumerate(image_urls, 1):\n",
    "                print(f\"\\nImage {idx}:\")\n",
    "                display(Image(url=url))\n",
    "        else:\n",
    "            print(\"No images found\")\n",
    "            \n",
    "        print(\"=\"*50 + \"\\n\")\n",
    "\n",
    "# Run the processing function\n",
    "process_rows(dataset)"
   ]
  }
 ],
 "metadata": {
  "kernelspec": {
   "display_name": "Python 3",
   "language": "python",
   "name": "python3"
  },
  "language_info": {
   "codemirror_mode": {
    "name": "ipython",
    "version": 3
   },
   "file_extension": ".py",
   "mimetype": "text/x-python",
   "name": "python",
   "nbconvert_exporter": "python",
   "pygments_lexer": "ipython3",
   "version": "3.11.5"
  },
  "orig_nbformat": 4
 },
 "nbformat": 4,
 "nbformat_minor": 2
}
